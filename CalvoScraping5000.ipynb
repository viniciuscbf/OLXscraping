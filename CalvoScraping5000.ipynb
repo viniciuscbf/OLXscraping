{
 "cells": [
  {
   "cell_type": "code",
   "execution_count": 1,
   "id": "d66a8ec6",
   "metadata": {},
   "outputs": [],
   "source": [
    "from selenium import webdriver\n",
    "from selenium.webdriver.common.by import By\n",
    "from selenium.webdriver.common.keys import Keys\n",
    "from bs4 import BeautifulSoup as bs\n",
    "import time\n",
    "import numpy as np\n",
    "import pandas as pd"
   ]
  },
  {
   "cell_type": "code",
   "execution_count": 2,
   "id": "3d3cfd0b",
   "metadata": {},
   "outputs": [],
   "source": [
    "c = webdriver.Chrome()\n",
    "#estados = ['ac', 'al', 'ap', 'am', 'ba', 'ce', 'df', 'es', 'go', 'ma', 'mt', 'ms', 'mg', 'pa', 'pb', 'pr', 'pe', 'pi', 'rj', 'rn', 'rs', 'ro', 'rr', 'sc', 'sp', 'se', 'to']\n",
    "estados = ['ac', 'al', 'ap', 'am']\n",
    "terras = []\n",
    "for a in estados:\n",
    "    terras.append([])\n",
    "    n = 0\n",
    "    url = 'https://www.olx.com.br/imoveis/terrenos/fazendas/estado-' + a + '?o=1'\n",
    "    c.get(url)\n",
    "    while len(c.find_elements(By.XPATH, \".//*[starts-with(text(), 'Ops!')]\")) < 1:\n",
    "        n = n + 1\n",
    "        url = 'https://www.olx.com.br/imoveis/terrenos/fazendas/estado-' + a + '?o=' + str(n)\n",
    "        if n > 1:\n",
    "            c.get(url)\n",
    "        if len(c.find_elements(By.XPATH, \".//*[starts-with(text(), 'Ops!')]\")) < 1:\n",
    "            pag = c.find_element(By.XPATH, '//main[@id=\"main-content\"]')\n",
    "            prices = pag.find_elements(By.XPATH, '//div[contains(@class, \"renderIfVisible \")]')\n",
    "            for price in prices:\n",
    "                value = price.find_elements(By.XPATH, \".//*[starts-with(text(), 'R$')]\")\n",
    "                metros = price.find_elements(By.CLASS_NAME, \"olx-ad-card__labels-item\")\n",
    "                lugar = price.find_elements(By.CLASS_NAME, \"olx-ad-card__location-date-container\")\n",
    "                if len(value) > 0 and len(metros) > 0 and len(lugar) > 0:\n",
    "                    terras[-1].append([float(value[0].text[3:].replace(\".\", \"\")), float(metros[0].text[:-2]), lugar[0].text])\n",
    "                else:\n",
    "                    c.execute_script(\"window.scrollBy(0, 400);\")\n",
    "                    time.sleep(0.1)\n",
    "                    value = price.find_elements(By.XPATH, \".//*[starts-with(text(), 'R$')]\")\n",
    "                    metros = price.find_elements(By.CLASS_NAME, \"olx-ad-card__labels-item\")\n",
    "                    lugar = price.find_elements(By.CLASS_NAME, \"olx-ad-card__location-date-container\")\n",
    "                    if len(value) > 0 and len(metros) > 0 and len(lugar) > 0:\n",
    "                        terras[-1].append([float(value[0].text[3:].replace(\".\", \"\")), float(metros[0].text[:-2]), lugar[0].text])\n",
    "                if len(terras[-1]) > 0:\n",
    "                    if terras[-1][-1][0] < 1 or terras[-1][-1][1] < 1 or len(terras[-1][-1][2]) < 1:\n",
    "                        terras[-1].pop(-1)\n",
    "        else:\n",
    "            break\n",
    "    '''\n",
    "    for i in range(len(terras[-1])):\n",
    "        if terras[-1][i][1]/terras[-1][i][0] < 0.02:\n",
    "            terras[-1][i][1] = terras[-1][i][1]*10000\n",
    "    '''\n",
    "    df = pd.DataFrame(terras[-1], columns=['valor', 'tamanho', 'lugar'])\n",
    "    nome = a + '.xlsx'\n",
    "    df.to_excel(nome, index=False)"
   ]
  },
  {
   "cell_type": "code",
   "execution_count": 30,
   "id": "cd688e05",
   "metadata": {},
   "outputs": [
    {
     "name": "stdout",
     "output_type": "stream",
     "text": [
      "31\n"
     ]
    }
   ],
   "source": [
    "pag = c.find_element(By.XPATH, '//main[@id=\"main-content\"]')\n",
    "prices = pag.find_elements(By.XPATH, '//div[contains(@class, \"renderIfVisible \")]')\n",
    "#prices = pag.find_elements(By.XPATH, '//div[contains(@class, \"sc-9c1b567f-0\")]')\n",
    "print(len(prices))"
   ]
  },
  {
   "cell_type": "code",
   "execution_count": 108,
   "id": "00783867",
   "metadata": {},
   "outputs": [
    {
     "data": {
      "text/plain": [
       "'R$ 1.000.000'"
      ]
     },
     "execution_count": 108,
     "metadata": {},
     "output_type": "execute_result"
    }
   ],
   "source": [
    "pag = c.find_element(By.XPATH, '//main[@id=\"main-content\"]')\n",
    "prices = pag.find_elements(By.XPATH, '//div[contains(@class, \"renderIfVisible \")]')\n",
    "prices[4].find_elements(By.XPATH, \".//*[starts-with(text(), 'R$')]\")[0].text"
   ]
  },
  {
   "cell_type": "code",
   "execution_count": 116,
   "id": "40175edd",
   "metadata": {},
   "outputs": [
    {
     "data": {
      "text/plain": [
       "0"
      ]
     },
     "execution_count": 116,
     "metadata": {},
     "output_type": "execute_result"
    }
   ],
   "source": [
    "len(terras[-1])"
   ]
  },
  {
   "cell_type": "code",
   "execution_count": 5,
   "id": "bb800ed4",
   "metadata": {},
   "outputs": [
    {
     "ename": "NoSuchWindowException",
     "evalue": "Message: no such window: target window already closed\nfrom unknown error: web view not found\n  (Session info: chrome=119.0.6045.106)\nStacktrace:\n\tGetHandleVerifier [0x00007FF65E3B82B2+55298]\n\t(No symbol) [0x00007FF65E325E02]\n\t(No symbol) [0x00007FF65E1E05AB]\n\t(No symbol) [0x00007FF65E1C0038]\n\t(No symbol) [0x00007FF65E246BC7]\n\t(No symbol) [0x00007FF65E25A15F]\n\t(No symbol) [0x00007FF65E241E83]\n\t(No symbol) [0x00007FF65E21670A]\n\t(No symbol) [0x00007FF65E217964]\n\tGetHandleVerifier [0x00007FF65E730AAB+3694587]\n\tGetHandleVerifier [0x00007FF65E78728E+4048862]\n\tGetHandleVerifier [0x00007FF65E77F173+4015811]\n\tGetHandleVerifier [0x00007FF65E4547D6+695590]\n\t(No symbol) [0x00007FF65E330CE8]\n\t(No symbol) [0x00007FF65E32CF34]\n\t(No symbol) [0x00007FF65E32D062]\n\t(No symbol) [0x00007FF65E31D3A3]\n\tBaseThreadInitThunk [0x00007FFD6094257D+29]\n\tRtlUserThreadStart [0x00007FFD6202AA58+40]\n",
     "output_type": "error",
     "traceback": [
      "\u001b[1;31m---------------------------------------------------------------------------\u001b[0m",
      "\u001b[1;31mNoSuchWindowException\u001b[0m                     Traceback (most recent call last)",
      "Cell \u001b[1;32mIn[5], line 1\u001b[0m\n\u001b[1;32m----> 1\u001b[0m \u001b[43mmetros\u001b[49m\u001b[43m[\u001b[49m\u001b[38;5;241;43m0\u001b[39;49m\u001b[43m]\u001b[49m\u001b[38;5;241;43m.\u001b[39;49m\u001b[43mtext\u001b[49m\n",
      "File \u001b[1;32m~\\anaconda3\\lib\\site-packages\\selenium\\webdriver\\remote\\webelement.py:89\u001b[0m, in \u001b[0;36mWebElement.text\u001b[1;34m(self)\u001b[0m\n\u001b[0;32m     86\u001b[0m \u001b[38;5;129m@property\u001b[39m\n\u001b[0;32m     87\u001b[0m \u001b[38;5;28;01mdef\u001b[39;00m \u001b[38;5;21mtext\u001b[39m(\u001b[38;5;28mself\u001b[39m) \u001b[38;5;241m-\u001b[39m\u001b[38;5;241m>\u001b[39m \u001b[38;5;28mstr\u001b[39m:\n\u001b[0;32m     88\u001b[0m     \u001b[38;5;124;03m\"\"\"The text of the element.\"\"\"\u001b[39;00m\n\u001b[1;32m---> 89\u001b[0m     \u001b[38;5;28;01mreturn\u001b[39;00m \u001b[38;5;28;43mself\u001b[39;49m\u001b[38;5;241;43m.\u001b[39;49m\u001b[43m_execute\u001b[49m\u001b[43m(\u001b[49m\u001b[43mCommand\u001b[49m\u001b[38;5;241;43m.\u001b[39;49m\u001b[43mGET_ELEMENT_TEXT\u001b[49m\u001b[43m)\u001b[49m[\u001b[38;5;124m\"\u001b[39m\u001b[38;5;124mvalue\u001b[39m\u001b[38;5;124m\"\u001b[39m]\n",
      "File \u001b[1;32m~\\anaconda3\\lib\\site-packages\\selenium\\webdriver\\remote\\webelement.py:394\u001b[0m, in \u001b[0;36mWebElement._execute\u001b[1;34m(self, command, params)\u001b[0m\n\u001b[0;32m    392\u001b[0m     params \u001b[38;5;241m=\u001b[39m {}\n\u001b[0;32m    393\u001b[0m params[\u001b[38;5;124m\"\u001b[39m\u001b[38;5;124mid\u001b[39m\u001b[38;5;124m\"\u001b[39m] \u001b[38;5;241m=\u001b[39m \u001b[38;5;28mself\u001b[39m\u001b[38;5;241m.\u001b[39m_id\n\u001b[1;32m--> 394\u001b[0m \u001b[38;5;28;01mreturn\u001b[39;00m \u001b[38;5;28;43mself\u001b[39;49m\u001b[38;5;241;43m.\u001b[39;49m\u001b[43m_parent\u001b[49m\u001b[38;5;241;43m.\u001b[39;49m\u001b[43mexecute\u001b[49m\u001b[43m(\u001b[49m\u001b[43mcommand\u001b[49m\u001b[43m,\u001b[49m\u001b[43m \u001b[49m\u001b[43mparams\u001b[49m\u001b[43m)\u001b[49m\n",
      "File \u001b[1;32m~\\anaconda3\\lib\\site-packages\\selenium\\webdriver\\remote\\webdriver.py:344\u001b[0m, in \u001b[0;36mWebDriver.execute\u001b[1;34m(self, driver_command, params)\u001b[0m\n\u001b[0;32m    342\u001b[0m response \u001b[38;5;241m=\u001b[39m \u001b[38;5;28mself\u001b[39m\u001b[38;5;241m.\u001b[39mcommand_executor\u001b[38;5;241m.\u001b[39mexecute(driver_command, params)\n\u001b[0;32m    343\u001b[0m \u001b[38;5;28;01mif\u001b[39;00m response:\n\u001b[1;32m--> 344\u001b[0m     \u001b[38;5;28;43mself\u001b[39;49m\u001b[38;5;241;43m.\u001b[39;49m\u001b[43merror_handler\u001b[49m\u001b[38;5;241;43m.\u001b[39;49m\u001b[43mcheck_response\u001b[49m\u001b[43m(\u001b[49m\u001b[43mresponse\u001b[49m\u001b[43m)\u001b[49m\n\u001b[0;32m    345\u001b[0m     response[\u001b[38;5;124m\"\u001b[39m\u001b[38;5;124mvalue\u001b[39m\u001b[38;5;124m\"\u001b[39m] \u001b[38;5;241m=\u001b[39m \u001b[38;5;28mself\u001b[39m\u001b[38;5;241m.\u001b[39m_unwrap_value(response\u001b[38;5;241m.\u001b[39mget(\u001b[38;5;124m\"\u001b[39m\u001b[38;5;124mvalue\u001b[39m\u001b[38;5;124m\"\u001b[39m, \u001b[38;5;28;01mNone\u001b[39;00m))\n\u001b[0;32m    346\u001b[0m     \u001b[38;5;28;01mreturn\u001b[39;00m response\n",
      "File \u001b[1;32m~\\anaconda3\\lib\\site-packages\\selenium\\webdriver\\remote\\errorhandler.py:229\u001b[0m, in \u001b[0;36mErrorHandler.check_response\u001b[1;34m(self, response)\u001b[0m\n\u001b[0;32m    227\u001b[0m         alert_text \u001b[38;5;241m=\u001b[39m value[\u001b[38;5;124m\"\u001b[39m\u001b[38;5;124malert\u001b[39m\u001b[38;5;124m\"\u001b[39m]\u001b[38;5;241m.\u001b[39mget(\u001b[38;5;124m\"\u001b[39m\u001b[38;5;124mtext\u001b[39m\u001b[38;5;124m\"\u001b[39m)\n\u001b[0;32m    228\u001b[0m     \u001b[38;5;28;01mraise\u001b[39;00m exception_class(message, screen, stacktrace, alert_text)  \u001b[38;5;66;03m# type: ignore[call-arg]  # mypy is not smart enough here\u001b[39;00m\n\u001b[1;32m--> 229\u001b[0m \u001b[38;5;28;01mraise\u001b[39;00m exception_class(message, screen, stacktrace)\n",
      "\u001b[1;31mNoSuchWindowException\u001b[0m: Message: no such window: target window already closed\nfrom unknown error: web view not found\n  (Session info: chrome=119.0.6045.106)\nStacktrace:\n\tGetHandleVerifier [0x00007FF65E3B82B2+55298]\n\t(No symbol) [0x00007FF65E325E02]\n\t(No symbol) [0x00007FF65E1E05AB]\n\t(No symbol) [0x00007FF65E1C0038]\n\t(No symbol) [0x00007FF65E246BC7]\n\t(No symbol) [0x00007FF65E25A15F]\n\t(No symbol) [0x00007FF65E241E83]\n\t(No symbol) [0x00007FF65E21670A]\n\t(No symbol) [0x00007FF65E217964]\n\tGetHandleVerifier [0x00007FF65E730AAB+3694587]\n\tGetHandleVerifier [0x00007FF65E78728E+4048862]\n\tGetHandleVerifier [0x00007FF65E77F173+4015811]\n\tGetHandleVerifier [0x00007FF65E4547D6+695590]\n\t(No symbol) [0x00007FF65E330CE8]\n\t(No symbol) [0x00007FF65E32CF34]\n\t(No symbol) [0x00007FF65E32D062]\n\t(No symbol) [0x00007FF65E31D3A3]\n\tBaseThreadInitThunk [0x00007FFD6094257D+29]\n\tRtlUserThreadStart [0x00007FFD6202AA58+40]\n"
     ]
    }
   ],
   "source": [
    "metros[0].text"
   ]
  },
  {
   "cell_type": "code",
   "execution_count": 7,
   "id": "f087e660",
   "metadata": {},
   "outputs": [
    {
     "name": "stdout",
     "output_type": "stream",
     "text": [
      "-5.055555555555555\n",
      "-5.055555555555555\n",
      "16\n",
      "9.75\n",
      "4.0\n"
     ]
    }
   ],
   "source": [
    "x = 4/3\n",
    "y = 4/3\n",
    "z = 2/4\n",
    "f = x**2 + y**2 + 2*z**2 - 4*x*y - 4*z\n",
    "print(f)\n",
    "\n",
    "x = -4/3\n",
    "y = -4/3\n",
    "z = 2/4\n",
    "f = x**2 + y**2 + 2*z**2 - 4*x*y - 4*z\n",
    "print(f)\n",
    "\n",
    "x = 0\n",
    "y = 0\n",
    "z = -2\n",
    "f = x**2 + y**2 + 2*z**2 - 4*x*y - 4*z\n",
    "print(f)\n",
    "\n",
    "x = (15**0.5)/(2*2**0.5)\n",
    "y = -(15**0.5)/(2*2**0.5)\n",
    "z = 1/2\n",
    "f = x**2 + y**2 + 2*z**2 - 4*x*y - 4*z\n",
    "g = x**2 + y**2 + z**2\n",
    "print(f)\n",
    "print(g)"
   ]
  },
  {
   "cell_type": "code",
   "execution_count": null,
   "id": "f8634fbe",
   "metadata": {},
   "outputs": [],
   "source": []
  }
 ],
 "metadata": {
  "kernelspec": {
   "display_name": "Python 3 (ipykernel)",
   "language": "python",
   "name": "python3"
  },
  "language_info": {
   "codemirror_mode": {
    "name": "ipython",
    "version": 3
   },
   "file_extension": ".py",
   "mimetype": "text/x-python",
   "name": "python",
   "nbconvert_exporter": "python",
   "pygments_lexer": "ipython3",
   "version": "3.10.9"
  }
 },
 "nbformat": 4,
 "nbformat_minor": 5
}
